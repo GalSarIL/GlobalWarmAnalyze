{
 "cells": [
  {
   "cell_type": "markdown",
   "metadata": {},
   "source": [
    "# Acquisition section.\n",
    "## Here we will acquire crawled data from web and from excel, then place it into data frame"
   ]
  },
  {
   "cell_type": "code",
   "execution_count": 1,
   "metadata": {},
   "outputs": [],
   "source": [
    "import pandas as pd\n",
    "import requests\n",
    "from bs4 import BeautifulSoup\n",
    "import xlrd\n",
    "import math"
   ]
  },
  {
   "cell_type": "markdown",
   "metadata": {},
   "source": [
    "### First we obtain the table of countries"
   ]
  },
  {
   "cell_type": "code",
   "execution_count": 2,
   "metadata": {},
   "outputs": [],
   "source": [
    "#Crawling the CO2 emission\n",
    "url = 'https://www.worldometers.info/co2-emissions/co2-emissions-by-country/'\n",
    "response = requests.get(url)\n",
    "soup = BeautifulSoup(response.content, 'html.parser')\n",
    "CO2FossilByCountry = soup.find(\"table\", attrs = {\"id\" : \"example2\"})\n",
    "tableRows = CO2FossilByCountry.find(\"tbody\")"
   ]
  },
  {
   "cell_type": "markdown",
   "metadata": {},
   "source": [
    "### After we obtained the table of countries, we will get the href links to each country.\n",
    "### Then, we will get each country's data, while summing the data into a list"
   ]
  },
  {
   "cell_type": "code",
   "execution_count": 3,
   "metadata": {},
   "outputs": [],
   "source": [
    "#First loop the get all country's tables\n",
    "year, FossilCO2, hrefLinks, country, avgCO2Fossil = (list() for i in range(5))\n",
    "isContinue, isFirstLoop = (True for i in range(2))\n",
    "i = 0\n",
    "for row in tableRows.findAll(\"tr\"):\n",
    "    row.find(\"td\", attrs = {\"style\":\"font-weight: bold; font-size:15px; text-align:left; padding-top:10px; padding-bottom:10px\"})\n",
    "    hrefLinks.append(row.find(\"a\").get(\"href\"))\n",
    "    country.append(row.find(\"a\").text)\n",
    "#Second loop the get each coyntry's data from its table\n",
    "for links in hrefLinks:\n",
    "    prefix = \"https://www.worldometers.info\"\n",
    "    suffix = links\n",
    "    currUrl = prefix+suffix\n",
    "    currResponse = requests.get(currUrl)\n",
    "    currSoup = BeautifulSoup(currResponse.content, 'html.parser')\n",
    "    tbl = currSoup(\"table\", attrs={\"class\":\"table table-striped table-bordered table-hover table-condensed table-list\"})[0]\n",
    "    for row in tbl (\"tr\"):\n",
    "        cells=row(\"td\")\n",
    "        if (len(cells)<7): #Catching the cells of the table itself\n",
    "            continue\n",
    "        if isFirstLoop:\n",
    "            avgCO2Fossil.append(int(cells[1].get_text().strip().replace(',', '')))\n",
    "        else:\n",
    "            avgCO2Fossil[i] = int(avgCO2Fossil[i] + (int(cells[1].get_text().strip().replace(',', ''))))\n",
    "            i = i+1\n",
    "        if isContinue:\n",
    "             year.append(cells[0].get_text().strip())\n",
    "    isContinue = False\n",
    "    isFirstLoop = False\n",
    "    i = 0"
   ]
  },
  {
   "cell_type": "markdown",
   "metadata": {},
   "source": [
    "### At this point we got a sum of each country's data by year, now we will make an average for the list by the years"
   ]
  },
  {
   "cell_type": "code",
   "execution_count": 4,
   "metadata": {},
   "outputs": [],
   "source": [
    "globalAvgCO2Fossil = avgCO2Fossil.copy()\n",
    "for i in range(0,len(globalAvgCO2Fossil)):\n",
    "    globalAvgCO2Fossil[i] = int(math.floor(globalAvgCO2Fossil[i] / len(country)))"
   ]
  },
  {
   "cell_type": "markdown",
   "metadata": {},
   "source": [
    "### Eventually, creating the data frame"
   ]
  },
  {
   "cell_type": "code",
   "execution_count": 5,
   "metadata": {},
   "outputs": [],
   "source": [
    "data = {\"Year\": year, \"FossilCO2\":globalAvgCO2Fossil}\n",
    "df_GlobalCO2Fossil = pd.DataFrame(data=data)\n",
    "df_GlobalCO2Fossil.to_csv(\"CO2Fossil.csv\")"
   ]
  },
  {
   "cell_type": "markdown",
   "metadata": {},
   "source": [
    "### Here we acquire the data from excel file and creating CSV file"
   ]
  },
  {
   "cell_type": "code",
   "execution_count": 6,
   "metadata": {},
   "outputs": [],
   "source": [
    "#Loading the excel file pre-downloaded, taking the row \"Total World\" for each column <Year> then transposing it.\n",
    "Year = list()\n",
    "NG = list()\n",
    "wb = xlrd.open_workbook('Natural gas demand.xlsx')\n",
    "sh = wb.sheet_by_name('Table 9.6')\n",
    "for col in sh.row_values(2):\n",
    "    if type(col) != str:\n",
    "        Year.append(int(float(col)))\n",
    "for col in sh.row_values(78):\n",
    "    if type(col) != str:\n",
    "        NG.append((int(col)))\n",
    "data = {'Year':Year, 'Natural Gas Demand':NG}\n",
    "df_NaturalGasDemand = pd.DataFrame(data=data)\n",
    "df_NaturalGasDemand.to_csv(\"NaturalGasDemand.csv\")"
   ]
  }
 ],
 "metadata": {
  "kernelspec": {
   "display_name": "Python 3",
   "language": "python",
   "name": "python3"
  },
  "language_info": {
   "codemirror_mode": {
    "name": "ipython",
    "version": 3
   },
   "file_extension": ".py",
   "mimetype": "text/x-python",
   "name": "python",
   "nbconvert_exporter": "python",
   "pygments_lexer": "ipython3",
   "version": "3.8.5"
  }
 },
 "nbformat": 4,
 "nbformat_minor": 4
}
